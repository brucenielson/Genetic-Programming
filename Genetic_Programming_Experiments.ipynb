{
  "nbformat": 4,
  "nbformat_minor": 0,
  "metadata": {
    "colab": {
      "name": "Genetic_Programming_Experiments.ipynb",
      "version": "0.3.2",
      "provenance": [],
      "collapsed_sections": [],
      "include_colab_link": true
    },
    "kernelspec": {
      "name": "python2",
      "display_name": "Python 2"
    }
  },
  "cells": [
    {
      "cell_type": "markdown",
      "metadata": {
        "id": "view-in-github",
        "colab_type": "text"
      },
      "source": [
        "<a href=\"https://colab.research.google.com/github/brucenielson/Genetic-Programming/blob/master/Genetic_Programming_Experiments.ipynb\" target=\"_parent\"><img src=\"https://colab.research.google.com/assets/colab-badge.svg\" alt=\"Open In Colab\"/></a>"
      ]
    },
    {
      "cell_type": "markdown",
      "metadata": {
        "id": "T8y96CCfwgZg",
        "colab_type": "text"
      },
      "source": [
        "This notebook contains the code I used for my inital Genetic Programming experiments. I used Toby Segaran's Genetic Programming code from his book [Collective Intelligence](https://www.amazon.com/gp/product/0596529325/ref=as_li_tl?ie=UTF8&camp=1789&creative=9325&creativeASIN=0596529325&linkCode=as2&tag=thelightrebor-20&linkId=6d3a6fa3b0f037c6a9fcee2b9e3355c8) as the starting point. ([Code found here](https://resources.oreilly.com/examples/9780596529321/tree/master/PCI_Code%20Folder/chapter11)) This experiment was primarily about playing with the hyper parameters of the code to get best results. However, I make a few improvements along the way to improve performance via various tricks I'll explain."
      ]
    },
    {
      "cell_type": "markdown",
      "metadata": {
        "id": "_SjmR21Jyusr",
        "colab_type": "text"
      },
      "source": [
        "First we will load some stats functions that are useful for calculating standard deviations. I used the code found [here](https://stackoverflow.com/questions/15389768/standard-deviation-of-a-list). However, it says it's just the code taken staight from Python's statistic module."
      ]
    },
    {
      "cell_type": "code",
      "metadata": {
        "id": "bXbiG0fuwR56",
        "colab_type": "code",
        "colab": {}
      },
      "source": [
        "# From: https://stackoverflow.com/questions/15389768/standard-deviation-of-a-list\n",
        "\n",
        "def mean(data):\n",
        "    \"\"\"Return the sample arithmetic mean of data.\"\"\"\n",
        "    n = len(data)\n",
        "    if n < 1:\n",
        "        raise ValueError('mean requires at least one data point')\n",
        "    return sum(data)/n # in Python 2 use sum(data)/float(n)\n",
        "\n",
        "def _ss(data):\n",
        "    \"\"\"Return sum of square deviations of sequence data.\"\"\"\n",
        "    c = mean(data)\n",
        "    ss = sum((x-c)**2 for x in data)\n",
        "    return ss\n",
        "\n",
        "def stddev(data, ddof=1):\n",
        "    \"\"\"Calculates the population standard deviation\n",
        "    if ddof=0; specify ddof=1 to compute the sample\n",
        "    standard deviation. (which I made default)\"\"\"\n",
        "    n = len(data)\n",
        "    if n < 2:\n",
        "        raise ValueError('variance requires at least two data points')\n",
        "    ss = _ss(data)\n",
        "    pvar = ss/(n-ddof)\n",
        "    return pvar**0.5"
      ],
      "execution_count": 0,
      "outputs": []
    },
    {
      "cell_type": "markdown",
      "metadata": {
        "id": "ovICSJEL0JSF",
        "colab_type": "text"
      },
      "source": [
        "Now load the function wrapper code and list of functions we'll be using in our genetic programming program trees: Add, Multiply, If, >, Subtract."
      ]
    },
    {
      "cell_type": "code",
      "metadata": {
        "id": "XzDi9di_02p5",
        "colab_type": "code",
        "colab": {}
      },
      "source": [
        "class fwrapper:\n",
        "    def __init__(self, function, params, name):\n",
        "        self.function = function\n",
        "        self.params = params\n",
        "        self.name = name\n",
        "\n",
        "\n",
        "# Functions with 2 parameters\n",
        "addw = fwrapper(lambda p: p[0] + p[1], 2, 'add')\n",
        "subw = fwrapper(lambda p: p[0] - p[1], 2, 'subtract')\n",
        "mulw = fwrapper(lambda p: p[0] * p[1], 2, 'multiply')\n",
        "# If and > Function\n",
        "def iffunc(l):\n",
        "    if l[0] > 0:\n",
        "        return l[1]\n",
        "    else:\n",
        "        return l[2]\n",
        "\n",
        "ifw = fwrapper(iffunc, 3, 'if')\n",
        "\n",
        "\n",
        "def isgreater(l):\n",
        "    if l[0] > l[1]:\n",
        "        return 1\n",
        "    else:\n",
        "        return 0\n",
        "gtw = fwrapper(isgreater, 2, 'isgreater')\n",
        "\n",
        "# List of possible functions\n",
        "flist = [addw, mulw, ifw, gtw, subw]\n"
      ],
      "execution_count": 0,
      "outputs": []
    },
    {
      "cell_type": "markdown",
      "metadata": {
        "id": "Q-ac6f1x2w6Y",
        "colab_type": "text"
      },
      "source": [
        "Required imports:"
      ]
    },
    {
      "cell_type": "code",
      "metadata": {
        "id": "rBRilfa62z6z",
        "colab_type": "code",
        "colab": {}
      },
      "source": [
        "from random import random, randint, choice\n",
        "from copy import deepcopy\n",
        "from math import log\n",
        "import datetime\n",
        "import operator"
      ],
      "execution_count": 0,
      "outputs": []
    },
    {
      "cell_type": "markdown",
      "metadata": {
        "id": "RLJWI04t24he",
        "colab_type": "text"
      },
      "source": [
        "Node classes: \"node\" is for functions, \"paramnode\" is for parameters, \"constnode\" is for constants"
      ]
    },
    {
      "cell_type": "code",
      "metadata": {
        "id": "WsIOeWZM3I_z",
        "colab_type": "code",
        "colab": {}
      },
      "source": [
        "class node:\n",
        "    treecounter = 0\n",
        "    def __init__(self, fw, children):\n",
        "        self.function = fw.function\n",
        "        self.name = fw.name\n",
        "        self.children = children\n",
        "        self.id = node.treecounter\n",
        "        self.lock = False\n",
        "        node.treecounter += 1 # Sets a unique id on each node for tracking\n",
        "\n",
        "\n",
        "    def evaluate(self, inp):\n",
        "        results = [n.evaluate(inp) for n in self.children]\n",
        "        return self.function(results)\n",
        "\n",
        "    def display(self, indent=0):\n",
        "        if self.lock:\n",
        "            add = \"*\"\n",
        "        else:\n",
        "            add = \"\"\n",
        "        print (' ' * indent) + self.name + add\n",
        "        for c in self.children:\n",
        "            c.display(indent + 1)\n",
        "\n",
        "\n",
        "class paramnode:\n",
        "    def __init__(self, idx):\n",
        "        self.idx = idx\n",
        "\n",
        "    def evaluate(self, inp):\n",
        "        return inp[self.idx]\n",
        "\n",
        "    def display(self, indent=0):\n",
        "        print '%sp%d' % (' ' * indent, self.idx)\n",
        "\n",
        "\n",
        "class constnode:\n",
        "    def __init__(self, value):\n",
        "        self.value = value\n",
        "\n",
        "    def evaluate(self, inp):\n",
        "        return self.value\n",
        "\n",
        "    def display(self, indent=0):\n",
        "        print '%s%d' % (' ' * indent, self.value)\n",
        "\n"
      ],
      "execution_count": 0,
      "outputs": []
    },
    {
      "cell_type": "markdown",
      "metadata": {
        "id": "xa4k-qmI3UB9",
        "colab_type": "text"
      },
      "source": [
        "Now we'll create an example programming tree manually to try this out. This tree is equivalent to:\n",
        "\n",
        "```\n",
        "def func(x,y):\n",
        "  if x>3:\n",
        "    return y + 5\n",
        "  else:\n",
        "    return y - 2\n",
        "```\n",
        "\n"
      ]
    },
    {
      "cell_type": "code",
      "metadata": {
        "id": "4vAQ3MvX3gqz",
        "colab_type": "code",
        "colab": {}
      },
      "source": [
        "class exampletree(node):\n",
        "    def __init__(self):\n",
        "        children = [node(gtw, [paramnode(0), constnode(3)]),\n",
        "                    node(addw, [paramnode(1), constnode(5)]),\n",
        "                    node(subw, [paramnode(1), constnode(2)])]\n",
        "\n",
        "        node.__init__(self, ifw, children)\n",
        "\n",
        "\n"
      ],
      "execution_count": 0,
      "outputs": []
    },
    {
      "cell_type": "code",
      "metadata": {
        "id": "NWF6uHQ53rKb",
        "colab_type": "code",
        "colab": {}
      },
      "source": [
        "exampletree = exampletree()"
      ],
      "execution_count": 0,
      "outputs": []
    },
    {
      "cell_type": "code",
      "metadata": {
        "id": "812iJMaR36d1",
        "colab_type": "code",
        "outputId": "8053f729-576d-4b82-f9a1-dd373a401709",
        "colab": {
          "base_uri": "https://localhost:8080/",
          "height": 35
        }
      },
      "source": [
        "exampletree.evaluate([2,3])"
      ],
      "execution_count": 7,
      "outputs": [
        {
          "output_type": "execute_result",
          "data": {
            "text/plain": [
              "1"
            ]
          },
          "metadata": {
            "tags": []
          },
          "execution_count": 7
        }
      ]
    },
    {
      "cell_type": "code",
      "metadata": {
        "id": "OJ_kywY03-3U",
        "colab_type": "code",
        "outputId": "44859fe3-19ce-4f09-fed5-8b48a9d35c2b",
        "colab": {
          "base_uri": "https://localhost:8080/",
          "height": 35
        }
      },
      "source": [
        "exampletree.evaluate([5,3])"
      ],
      "execution_count": 8,
      "outputs": [
        {
          "output_type": "execute_result",
          "data": {
            "text/plain": [
              "8"
            ]
          },
          "metadata": {
            "tags": []
          },
          "execution_count": 8
        }
      ]
    },
    {
      "cell_type": "markdown",
      "metadata": {
        "id": "1nPV5u8X4vfc",
        "colab_type": "text"
      },
      "source": [
        "We can also display the tree in a (somewhat) more readable format by calling the \"display\" method"
      ]
    },
    {
      "cell_type": "code",
      "metadata": {
        "id": "M81w_N7G48Nx",
        "colab_type": "code",
        "outputId": "693356f8-789e-4a46-c970-6b2021d23f9f",
        "colab": {
          "base_uri": "https://localhost:8080/",
          "height": 191
        }
      },
      "source": [
        "exampletree.display()"
      ],
      "execution_count": 9,
      "outputs": [
        {
          "output_type": "stream",
          "text": [
            "if\n",
            " isgreater\n",
            "  p0\n",
            "  3\n",
            " add\n",
            "  p1\n",
            "  5\n",
            " subtract\n",
            "  p1\n",
            "  2\n"
          ],
          "name": "stdout"
        }
      ]
    },
    {
      "cell_type": "markdown",
      "metadata": {
        "id": "AXSzS-or5EsB",
        "colab_type": "text"
      },
      "source": [
        "Now let's create a way to make random code trees."
      ]
    },
    {
      "cell_type": "code",
      "metadata": {
        "id": "7BFFC8SX5IOI",
        "colab_type": "code",
        "colab": {}
      },
      "source": [
        "def makerandomtree(pc, maxdepth=4, fpr=0.5, ppr=0.6): # pc is number of parameters\n",
        "    if random() < fpr and maxdepth > 0:\n",
        "        f = choice(flist)\n",
        "        children = [makerandomtree(pc, maxdepth - 1, fpr, ppr)\n",
        "                    for i in range(f.params)]\n",
        "        return node(f, children)\n",
        "    elif random() < ppr:\n",
        "        return paramnode(randint(0, pc - 1))\n",
        "    else:\n",
        "        return constnode(randint(0, 10))\n"
      ],
      "execution_count": 0,
      "outputs": []
    },
    {
      "cell_type": "code",
      "metadata": {
        "id": "pKd3tfGh5Wkn",
        "colab_type": "code",
        "outputId": "2309f54e-d5cf-40df-ef3b-124f806e9cf6",
        "colab": {
          "base_uri": "https://localhost:8080/",
          "height": 243
        }
      },
      "source": [
        "random1 = makerandomtree(2)\n",
        "random1.display()"
      ],
      "execution_count": 11,
      "outputs": [
        {
          "output_type": "stream",
          "text": [
            "if\n",
            " p0\n",
            " subtract\n",
            "  p1\n",
            "  p0\n",
            " if\n",
            "  p1\n",
            "  10\n",
            "  isgreater\n",
            "   p0\n",
            "   subtract\n",
            "    4\n",
            "    5\n"
          ],
          "name": "stdout"
        }
      ]
    },
    {
      "cell_type": "code",
      "metadata": {
        "id": "bhhEb60S5jzx",
        "colab_type": "code",
        "outputId": "396a1051-88d6-4480-ee40-a5027c4812b9",
        "colab": {
          "base_uri": "https://localhost:8080/",
          "height": 35
        }
      },
      "source": [
        "random1.evaluate([5,2])"
      ],
      "execution_count": 12,
      "outputs": [
        {
          "output_type": "execute_result",
          "data": {
            "text/plain": [
              "-3"
            ]
          },
          "metadata": {
            "tags": []
          },
          "execution_count": 12
        }
      ]
    },
    {
      "cell_type": "markdown",
      "metadata": {
        "id": "QL5uE_iH5wzV",
        "colab_type": "text"
      },
      "source": [
        "Now for the real experiments! We need a 'hidden function' that our genetic programming tries to figure out what it is. This function is equivalent to X^2 + 2Y + 3X + 5"
      ]
    },
    {
      "cell_type": "code",
      "metadata": {
        "id": "l277ghPV6CkH",
        "colab_type": "code",
        "colab": {}
      },
      "source": [
        "def hiddenfunction(x, y):\n",
        "    return x ** 2 + 2 * y + 3 * x + 5\n"
      ],
      "execution_count": 0,
      "outputs": []
    },
    {
      "cell_type": "markdown",
      "metadata": {
        "id": "Pxzwfisc6Sge",
        "colab_type": "text"
      },
      "source": [
        "Now create a random set of parameters and get the results. This will be the 'observations' that the genetic program will run against to determine how close it's program is to the correct one."
      ]
    },
    {
      "cell_type": "code",
      "metadata": {
        "id": "6KMSXEvW6eaL",
        "colab_type": "code",
        "colab": {}
      },
      "source": [
        "def buildhiddenset():\n",
        "    rows = []\n",
        "    for i in range(200):\n",
        "        x = randint(0, 40)\n",
        "        y = randint(0, 40)\n",
        "        rows.append([x, y, hiddenfunction(x, y)])\n",
        "    return rows\n",
        "\n"
      ],
      "execution_count": 0,
      "outputs": []
    },
    {
      "cell_type": "code",
      "metadata": {
        "id": "uBxFtljm6gm0",
        "colab_type": "code",
        "colab": {}
      },
      "source": [
        "hiddenset = buildhiddenset()"
      ],
      "execution_count": 0,
      "outputs": []
    },
    {
      "cell_type": "code",
      "metadata": {
        "id": "p2Sxl5u66m_e",
        "colab_type": "code",
        "outputId": "8c08eb53-030c-4f01-a844-e9087a1e25c4",
        "colab": {
          "base_uri": "https://localhost:8080/",
          "height": 55
        }
      },
      "source": [
        "print hiddenset"
      ],
      "execution_count": 16,
      "outputs": [
        {
          "output_type": "stream",
          "text": [
            "[[25, 34, 773], [14, 9, 261], [6, 38, 135], [22, 23, 601], [38, 35, 1633], [7, 16, 107], [37, 38, 1561], [34, 15, 1293], [29, 31, 995], [8, 3, 99], [14, 18, 279], [20, 15, 495], [26, 17, 793], [20, 38, 541], [21, 15, 539], [2, 12, 39], [3, 4, 31], [5, 39, 123], [15, 37, 349], [38, 2, 1567], [23, 32, 667], [33, 32, 1257], [3, 19, 61], [2, 14, 43], [27, 16, 847], [25, 35, 775], [25, 29, 763], [39, 20, 1683], [21, 11, 531], [9, 30, 173], [35, 4, 1343], [34, 16, 1295], [36, 12, 1433], [28, 2, 877], [12, 40, 265], [3, 39, 101], [30, 23, 1041], [26, 12, 783], [36, 13, 1435], [11, 25, 209], [20, 6, 477], [36, 9, 1427], [38, 18, 1599], [17, 13, 371], [28, 12, 897], [27, 1, 817], [1, 22, 53], [33, 24, 1241], [8, 17, 127], [31, 26, 1111], [22, 30, 615], [17, 11, 367], [28, 0, 873], [17, 32, 409], [38, 2, 1567], [26, 26, 811], [25, 15, 735], [6, 38, 135], [9, 28, 169], [17, 38, 421], [24, 0, 653], [23, 8, 619], [6, 18, 95], [2, 32, 79], [24, 6, 665], [9, 36, 185], [9, 7, 127], [17, 9, 363], [16, 4, 317], [24, 4, 661], [21, 20, 549], [13, 6, 225], [23, 26, 655], [33, 17, 1227], [26, 6, 771], [9, 15, 143], [26, 16, 791], [16, 38, 385], [30, 5, 1005], [35, 10, 1355], [5, 36, 117], [13, 9, 231], [13, 9, 231], [22, 40, 635], [30, 27, 1049], [16, 36, 381], [38, 30, 1623], [36, 15, 1439], [36, 7, 1423], [36, 14, 1437], [28, 5, 883], [40, 40, 1805], [6, 21, 101], [27, 5, 825], [23, 36, 675], [1, 14, 37], [38, 14, 1591], [3, 5, 33], [25, 35, 775], [22, 15, 585], [13, 38, 289], [32, 39, 1203], [4, 1, 35], [40, 15, 1755], [36, 6, 1421], [8, 34, 161], [10, 40, 215], [19, 31, 485], [33, 22, 1237], [15, 16, 307], [37, 5, 1495], [21, 40, 589], [16, 3, 315], [32, 11, 1147], [15, 31, 337], [37, 7, 1499], [25, 0, 705], [29, 36, 1005], [33, 26, 1245], [1, 24, 57], [13, 14, 241], [20, 2, 469], [18, 37, 457], [21, 7, 523], [17, 23, 391], [1, 4, 17], [8, 0, 93], [36, 39, 1487], [3, 7, 37], [2, 30, 75], [2, 16, 47], [2, 28, 71], [15, 22, 319], [22, 31, 617], [10, 16, 167], [9, 23, 159], [5, 2, 49], [12, 2, 189], [20, 19, 503], [31, 20, 1099], [24, 13, 679], [28, 4, 881], [35, 14, 1363], [3, 30, 83], [16, 24, 357], [7, 14, 103], [35, 14, 1363], [6, 2, 63], [24, 4, 661], [35, 24, 1383], [21, 27, 563], [39, 40, 1723], [35, 31, 1397], [34, 5, 1273], [17, 1, 347], [7, 29, 133], [24, 18, 689], [30, 36, 1067], [35, 37, 1409], [15, 24, 323], [38, 4, 1571], [18, 16, 415], [24, 16, 685], [11, 35, 229], [6, 13, 85], [31, 20, 1099], [22, 39, 633], [11, 5, 169], [10, 2, 139], [7, 32, 139], [29, 17, 967], [4, 33, 99], [32, 7, 1139], [22, 13, 581], [37, 5, 1495], [10, 1, 137], [0, 36, 77], [5, 5, 55], [32, 14, 1153], [33, 12, 1217], [37, 20, 1525], [30, 10, 1015], [17, 22, 389], [1, 2, 13], [4, 10, 53], [17, 11, 367], [4, 33, 99], [7, 5, 85], [22, 22, 599], [30, 40, 1075], [5, 23, 91], [20, 1, 467], [40, 29, 1783], [30, 3, 1001], [22, 0, 555], [8, 10, 113], [17, 30, 405], [12, 40, 265], [34, 40, 1343], [21, 15, 539]]\n"
          ],
          "name": "stdout"
        }
      ]
    },
    {
      "cell_type": "markdown",
      "metadata": {
        "id": "cjsBr8wP6tBr",
        "colab_type": "text"
      },
      "source": [
        "Let's create a 'score' function that evaluates a genetic programming tree and determines how far off it's function is from the correct result."
      ]
    },
    {
      "cell_type": "code",
      "metadata": {
        "id": "yee3xqqs61J7",
        "colab_type": "code",
        "colab": {}
      },
      "source": [
        "def scorefunction(tree, dataset, penalizecomplexity=False):\n",
        "    start = datetime.datetime.now()\n",
        "    dif = 0\n",
        "    for row in dataset:\n",
        "        val = tree.evaluate([row[0], row[1]])\n",
        "        dif += abs(val - row[2])\n",
        "\n",
        "    if penalizecomplexity == False: # We'll use this code later to penalize more complext trees\n",
        "        return (dif, tree)\n",
        "    else:\n",
        "        end = datetime.datetime.now()\n",
        "        delta = end - start\n",
        "        seconds = delta.total_seconds()\n",
        "        return (dif, tree, seconds)\n"
      ],
      "execution_count": 0,
      "outputs": []
    },
    {
      "cell_type": "code",
      "metadata": {
        "id": "PXDqrHUz660a",
        "colab_type": "code",
        "outputId": "63890089-29b7-457d-d512-d55606273318",
        "colab": {
          "base_uri": "https://localhost:8080/",
          "height": 35
        }
      },
      "source": [
        "scorefunction(random1, hiddenset)[0]"
      ],
      "execution_count": 18,
      "outputs": [
        {
          "output_type": "execute_result",
          "data": {
            "text/plain": [
              "131335"
            ]
          },
          "metadata": {
            "tags": []
          },
          "execution_count": 18
        }
      ]
    },
    {
      "cell_type": "markdown",
      "metadata": {
        "id": "BPX5atTY7xxb",
        "colab_type": "text"
      },
      "source": [
        "Now we'll create the mutate and crossover functions. Mutate takes a tree and has a chance of changing one node into a new random program. Crossover takes two trees and has a chance of grabbing a node of one tree and splicing it into the other. "
      ]
    },
    {
      "cell_type": "code",
      "metadata": {
        "id": "TBSjZApz8Bc_",
        "colab_type": "code",
        "colab": {}
      },
      "source": [
        "def mutate(t, pc, probchange=0.1):\n",
        "    if random() < probchange:\n",
        "        return makerandomtree(pc)\n",
        "    else:\n",
        "        result = deepcopy(t)\n",
        "        if hasattr(t, \"children\"):\n",
        "            result.children = [mutate(c, pc, probchange) for c in t.children]\n",
        "\n",
        "        return result\n",
        "\n",
        "\n",
        "def crossover(t1, t2, probswap=0.1, top=True):\n",
        "    # print \"t1:\", getattr(t1, \"id\", -1), \"t2:\", getattr(t2, \"id\", -1)\n",
        "    if random() < probswap and not top:\n",
        "        # print \"return t2:\", getattr(t2, \"id\", -1)\n",
        "        return deepcopy(t2)\n",
        "    else:\n",
        "        result = deepcopy(t1)\n",
        "        if hasattr(t1, 'children') and hasattr(t2, 'children') and not getattr(result, \"lock\", False):\n",
        "            result.children = [crossover(c, choice(t2.children), probswap, top=False)\n",
        "                               for c in t1.children]\n",
        "        # print \"return crossover:\", getattr(result, \"id\", -1)\n",
        "        return result\n"
      ],
      "execution_count": 0,
      "outputs": []
    },
    {
      "cell_type": "code",
      "metadata": {
        "id": "-NNAUvfP8IXf",
        "colab_type": "code",
        "outputId": "69be6fd6-9468-4156-ee8d-503ce1362836",
        "colab": {
          "base_uri": "https://localhost:8080/",
          "height": 121
        }
      },
      "source": [
        "random2 = makerandomtree(2)\n",
        "random2.display()"
      ],
      "execution_count": 20,
      "outputs": [
        {
          "output_type": "stream",
          "text": [
            "if\n",
            " p1\n",
            " isgreater\n",
            "  p1\n",
            "  p0\n",
            " 5\n"
          ],
          "name": "stdout"
        }
      ]
    },
    {
      "cell_type": "code",
      "metadata": {
        "id": "Mw1fYI1a8Zlv",
        "colab_type": "code",
        "outputId": "8028c255-863c-4c2e-cfab-1af97ff0b6ff",
        "colab": {
          "base_uri": "https://localhost:8080/",
          "height": 156
        }
      },
      "source": [
        "mutatedtree = mutate(random2, 2)\n",
        "mutatedtree.display()"
      ],
      "execution_count": 21,
      "outputs": [
        {
          "output_type": "stream",
          "text": [
            "subtract\n",
            " isgreater\n",
            "  if\n",
            "   p1\n",
            "   p1\n",
            "   p0\n",
            "  p0\n",
            " 9\n"
          ],
          "name": "stdout"
        }
      ]
    },
    {
      "cell_type": "code",
      "metadata": {
        "id": "TV11jT0G8t3-",
        "colab_type": "code",
        "outputId": "8104bbac-aafc-4e7f-ad15-d2916482fdef",
        "colab": {
          "base_uri": "https://localhost:8080/",
          "height": 243
        }
      },
      "source": [
        "crossovertree = crossover(random1, random2)\n",
        "crossovertree.display()"
      ],
      "execution_count": 22,
      "outputs": [
        {
          "output_type": "stream",
          "text": [
            "if\n",
            " p0\n",
            " subtract\n",
            "  p1\n",
            "  p0\n",
            " if\n",
            "  p1\n",
            "  10\n",
            "  isgreater\n",
            "   p0\n",
            "   subtract\n",
            "    4\n",
            "    5\n"
          ],
          "name": "stdout"
        }
      ]
    },
    {
      "cell_type": "markdown",
      "metadata": {
        "id": "R2gXghHq9HIB",
        "colab_type": "text"
      },
      "source": [
        "Finally, we're going to create an evolve function that creates a set of randomtrees, then evaluates them against the hidden function. It sorts them into order of which are best, then starts to 'evolve' them via mutation and crossover.\n",
        "\n",
        "def evolve(pc, popsize, rankfunction, maxgen=500,\n",
        "         mutationrate=0.1, breedingrate=0.3, fitnesspref=0.7, probnew=0.05,\n",
        "         penalizecomplexity=False, doublemutate=True)"
      ]
    },
    {
      "cell_type": "code",
      "metadata": {
        "id": "8r0qsTFz9XiB",
        "colab_type": "code",
        "colab": {}
      },
      "source": [
        "def evolve(pc, popsize, rankfunction, maxgen=500,\n",
        "         mutationrate=0.2, breedingrate=0.1, fitnesspref=0.7, probnew=0.1,\n",
        "         detectstuck=False, mute=False):\n",
        "  # Returns a random number, tending towards lower numbers. The lower pexp\n",
        "  # is, more lower numbers you will get\n",
        "  def selectindex():\n",
        "      return int(log(random()) / log(fitnesspref))\n",
        "\n",
        "  # Create a random initial population\n",
        "  population = [makerandomtree(pc) for i in range(popsize)]\n",
        "  lastscore = None\n",
        "  stuckcounter = 0\n",
        "  for i in range(maxgen):\n",
        "      scores = rankfunction(population)\n",
        "\n",
        "      # If we get same value too often, take action\n",
        "      adj_mutate = mutationrate\n",
        "\n",
        "      if not mute:\n",
        "        print \"Generation:\", i+1, \"Best Score:\", scores[0][0]\n",
        "          \n",
        "      if scores[0][0] == 0: break\n",
        "\n",
        "      # The two best always make it\n",
        "      newpop = [scores[0][1], scores[1][1]]\n",
        "\n",
        "      # Build the next generation\n",
        "      while len(newpop) < popsize:\n",
        "          if random() > probnew:\n",
        "              newpop.append(mutate(\n",
        "                  crossover(scores[selectindex()][1],\n",
        "                            scores[selectindex()][1],\n",
        "                            probswap=breedingrate),\n",
        "                  pc, probchange=adj_mutate))\n",
        "          else:\n",
        "              # Add a random node to mix things up\n",
        "              newpop.append(makerandomtree(pc))\n",
        "\n",
        "      population = newpop\n",
        "  \n",
        "  if not mute:\n",
        "    print \"******\"\n",
        "    print \"Best Tree Found:\"\n",
        "    scores[0][1].display()\n",
        "    \n",
        "  return (scores, i+1)\n"
      ],
      "execution_count": 0,
      "outputs": []
    },
    {
      "cell_type": "markdown",
      "metadata": {
        "id": "Vb0tHTRd93AH",
        "colab_type": "text"
      },
      "source": [
        "We also need a rankfunction that scores and sorts the population of programs."
      ]
    },
    {
      "cell_type": "code",
      "metadata": {
        "id": "6p9ufirD-C95",
        "colab_type": "code",
        "colab": {}
      },
      "source": [
        "def getrankfunction(dataset):\n",
        "    def rankfunction(population):\n",
        "        scores = [scorefunction(t, dataset) for t in population]\n",
        "        scores.sort()\n",
        "\n",
        "        return scores\n",
        "\n",
        "    return rankfunction\n",
        "\n"
      ],
      "execution_count": 0,
      "outputs": []
    },
    {
      "cell_type": "markdown",
      "metadata": {
        "id": "UK99jcwI-bcO",
        "colab_type": "text"
      },
      "source": [
        "Ready to run and see if our genetic programming population can find the real hidden function. My experience is that it finds it a bit less than half the time with the default parameters."
      ]
    },
    {
      "cell_type": "code",
      "metadata": {
        "id": "zlAD8LUq-nmE",
        "colab_type": "code",
        "colab": {}
      },
      "source": [
        "rf = getrankfunction(hiddenset)"
      ],
      "execution_count": 0,
      "outputs": []
    },
    {
      "cell_type": "code",
      "metadata": {
        "id": "topXRv4R_bT3",
        "colab_type": "code",
        "outputId": "c6426600-e206-4590-d7d1-5fbc24314c2f",
        "colab": {
          "base_uri": "https://localhost:8080/",
          "height": 468
        }
      },
      "source": [
        "results = evolve(2, 500, rf, maxgen=50, mutationrate=0.2, breedingrate=0.1, fitnesspref=0.7, probnew=0.1)"
      ],
      "execution_count": 26,
      "outputs": [
        {
          "output_type": "stream",
          "text": [
            "Generation: 1 Best Score: 15661\n",
            "Generation: 2 Best Score: 400\n",
            "Generation: 3 Best Score: 200\n",
            "Generation: 4 Best Score: 200\n",
            "Generation: 5 Best Score: 200\n",
            "Generation: 6 Best Score: 3\n",
            "Generation: 7 Best Score: 0\n",
            "******\n",
            "Best Tree Found:\n",
            "add\n",
            " p0\n",
            " add\n",
            "  add\n",
            "   add\n",
            "    p0\n",
            "    add\n",
            "     add\n",
            "      p0\n",
            "      subtract\n",
            "       9\n",
            "       4\n",
            "     p1\n",
            "   multiply\n",
            "    p0\n",
            "    p0\n",
            "  p1\n"
          ],
          "name": "stdout"
        }
      ]
    },
    {
      "cell_type": "markdown",
      "metadata": {
        "id": "xiLywoNPITMn",
        "colab_type": "text"
      },
      "source": [
        "At last, we're ready to start experimenting with hyper parameters to find the best ones! \n",
        "\n",
        "So the first thing we're going to try is playing with mutationrate, breedingrate, fitnesspref (preference for how bias we should grab the most fit trees to breed), and probnew (probability of creating a new random tree).\n",
        "\n",
        "To do this experiment, we need a test function that will run evolve multiple times and give us averages and standard deviations across mulitple runs. \n",
        "\n",
        "But there is so much deviation from one run to the next we really should run 1000 different times and then take the average result. But we can't wait that long, so we'll do 5 instead. \n",
        "\n",
        "Consider changing that to 50 and you'll get a fairly good feel for averages using different hyper parameters within an hour or two."
      ]
    },
    {
      "cell_type": "code",
      "metadata": {
        "id": "q8AQVqDGJRh8",
        "colab_type": "code",
        "colab": {}
      },
      "source": [
        "def getstats(rounds=50, maxgen=50, mutationrate=0.05, breedingrate=0.10, fitnesspref=0.95, probnew=0.10, penalizecomplexity=False, modularize=False, mute=False):\n",
        "    dataset = buildhiddenset()\n",
        "    rf = getrankfunction(dataset)\n",
        "    tries = []\n",
        "    for i in range(rounds):\n",
        "        if not mute:\n",
        "          print \"*******Round: \", i+1, \"*******\"\n",
        "        start = datetime.datetime.now()\n",
        "        scores, generations = evolve(2, 500, rf, maxgen=maxgen, mutationrate=mutationrate, breedingrate=breedingrate, fitnesspref=fitnesspref, probnew=probnew,  mute=mute)\n",
        "        best = scores[0][1]\n",
        "        score = scorefunction(best, dataset)\n",
        "        end = datetime.datetime.now()\n",
        "        delta = end - start\n",
        "        seconds = delta.total_seconds()\n",
        "        row = (score[0], seconds, generations, best)\n",
        "        tries.append(row)\n",
        "\n",
        "    scores = [row[0] for row in tries]\n",
        "    avg_score = sum(scores) / len(scores)\n",
        "    std_score = stddev(scores)\n",
        "\n",
        "    successes = scores.count(0)\n",
        "\n",
        "    times = [row[1] for row in tries]\n",
        "    avg_time = sum(times) / len(times)\n",
        "    std_time = stddev(times)\n",
        "\n",
        "    generations = [row[2] for row in tries]\n",
        "    avg_generations = sum(generations) / len(generations)\n",
        "    std_generations = stddev(generations)\n",
        "\n",
        "    # print \"Final Population\", getids(population)\n",
        "    print \"# of Successes:\", successes\n",
        "    print \"Average Score:\", avg_score, \"StD:\", round(std_score, 2)\n",
        "    print \"Average Time (Seconds):\", avg_time, \"StD:\", round(std_time, 2)\n",
        "    print \"Average Generations:\", avg_generations, \"StD:\", round(std_generations, 2)\n",
        "\n",
        "    return successes, avg_score, avg_time, avg_generations\n",
        "\n"
      ],
      "execution_count": 0,
      "outputs": []
    },
    {
      "cell_type": "code",
      "metadata": {
        "id": "kHc-x5vZJq49",
        "colab_type": "code",
        "outputId": "5095b8a6-855d-462c-954c-607d91b14b50",
        "colab": {
          "base_uri": "https://localhost:8080/",
          "height": 104
        }
      },
      "source": [
        "getstats(rounds=5, maxgen=50, mutationrate=0.2, breedingrate=0.1, fitnesspref=0.7, probnew=0.1, mute=True)"
      ],
      "execution_count": 28,
      "outputs": [
        {
          "output_type": "stream",
          "text": [
            "# of Successes: 2\n",
            "Average Score: 1758 StD: 1681.93\n",
            "Average Time (Seconds): 119.080995 StD: 31.3\n",
            "Average Generations: 50 StD: 0.0\n"
          ],
          "name": "stdout"
        },
        {
          "output_type": "execute_result",
          "data": {
            "text/plain": [
              "(2, 1758, 119.080995, 50)"
            ]
          },
          "metadata": {
            "tags": []
          },
          "execution_count": 28
        }
      ]
    },
    {
      "cell_type": "markdown",
      "metadata": {
        "id": "ndgUcZ5APCef",
        "colab_type": "text"
      },
      "source": [
        "So the above is the default settings. Can we do better? Playing around with the hyper parameters, the follows was the best I could find. I think there is something to be learned from these:\n",
        "\n",
        "*   **Mutation Rate**: A very low mutation rate of 0.05 worked the best. The obvious advantage here is that it more slowly makes changes and doesn't produce garbage too fast. The downside is that we're giving up an opportunity for more variation to select from generation to generation. I think there is an added bonus of a low mutation rate: a quirk in the code shows that a higher mutation rate will tend to force the mutations to the top because it starts at the top and only keeps moving down if no mutation takes place in the parents. This suggests that a lower mutation rate allows more mutations lower into the tree. \n",
        "*   **Breeding Rate**: A slightly higher breeding rate of 0.10 seemed to work the best. This suggests that crossover is probably the main type of variation (compared to mutations)\n",
        "*   **Fitness Preference**: Fitness Preference determines the liklihood of selecting less fit trees to crossbreed with. The value should be less than 1.0. I experimented and found that the best value here is 0.95, which is fairly high. This makes good sense given the low breeding rate because it injects more variation into the population, even though it is less fit variation. This shows the importance of variation.\n",
        "*   **Probability New**: The probability of, instead of crossbreeding and mutating from existing trees in the population that we just build a new one from scratch. This is necessary to keep injecting new 'genetic material' into the population. This is another source of variation.\n",
        "\n",
        "\n",
        "\n"
      ]
    },
    {
      "cell_type": "code",
      "metadata": {
        "id": "tQaFwmVsPUap",
        "colab_type": "code",
        "outputId": "46500b59-990a-45c1-dd0b-527f8a079b87",
        "colab": {
          "base_uri": "https://localhost:8080/",
          "height": 104
        }
      },
      "source": [
        "getstats(rounds=5, maxgen=50, mutationrate=0.05, breedingrate=0.10, fitnesspref=0.95, probnew=0.10, mute=True)"
      ],
      "execution_count": 29,
      "outputs": [
        {
          "output_type": "stream",
          "text": [
            "# of Successes: 3\n",
            "Average Score: 486 StD: 983.74\n",
            "Average Time (Seconds): 199.1788338 StD: 243.3\n",
            "Average Generations: 29 StD: 19.42\n"
          ],
          "name": "stdout"
        },
        {
          "output_type": "execute_result",
          "data": {
            "text/plain": [
              "(3, 486, 199.1788338, 29)"
            ]
          },
          "metadata": {
            "tags": []
          },
          "execution_count": 29
        }
      ]
    },
    {
      "cell_type": "markdown",
      "metadata": {
        "id": "V1YxtVG4R-LP",
        "colab_type": "text"
      },
      "source": [
        "Having found the best hyper parameters, I wanted to see if I could improve things by giving a penalty for more complex trees and thereby emphasize trees that gave good results, but were less complex. \n",
        "\n",
        "It's not immediately obvious how to do this. The way the code is currently written, I'd have to traverse the whole tree to calculate it's complexity. So I cheated and just kept track of how long the tree takes to run. This isn't perfect, but it should give me a rough order of trees that score the same but some run faster than others (presumably due to reduced complexity from less 'junk code')\n",
        "\n",
        "So I rewrote the evolve function and score function to track how long it takes to evaluate a tree and to order first by score and then by the length of time it took to run the tree. "
      ]
    },
    {
      "cell_type": "code",
      "metadata": {
        "id": "WBxfzU-edV_Z",
        "colab_type": "code",
        "colab": {}
      },
      "source": [
        "def getstats(rounds=50, maxgen=50, mutationrate=0.05, breedingrate=0.10, fitnesspref=0.95, probnew=0.10, penalizecomplexity=False, modularize=False, mute=False):\n",
        "    dataset = buildhiddenset()\n",
        "    rf = getrankfunction(dataset)\n",
        "    tries = []\n",
        "    for i in range(rounds):\n",
        "        if not mute:\n",
        "          print \"*******Round: \", i+1, \"*******\"\n",
        "        start = datetime.datetime.now()\n",
        "        scores, generations = evolve(2, 500, rf, maxgen=maxgen, mutationrate=mutationrate, breedingrate=breedingrate, fitnesspref=fitnesspref, probnew=probnew,  penalizecomplexity=penalizecomplexity, mute=mute)\n",
        "        best = scores[0][1]\n",
        "        score = scorefunction(best, dataset)\n",
        "        end = datetime.datetime.now()\n",
        "        delta = end - start\n",
        "        seconds = delta.total_seconds()\n",
        "        row = (score[0], seconds, generations, best)\n",
        "        tries.append(row)\n",
        "\n",
        "    scores = [row[0] for row in tries]\n",
        "    avg_score = sum(scores) / len(scores)\n",
        "    std_score = stddev(scores)\n",
        "\n",
        "    successes = scores.count(0)\n",
        "\n",
        "    times = [row[1] for row in tries]\n",
        "    avg_time = sum(times) / len(times)\n",
        "    std_time = stddev(times)\n",
        "\n",
        "    generations = [row[2] for row in tries]\n",
        "    avg_generations = sum(generations) / len(generations)\n",
        "    std_generations = stddev(generations)\n",
        "\n",
        "    # print \"Final Population\", getids(population)\n",
        "    print \"# of Successes:\", successes\n",
        "    print \"Average Score:\", avg_score, \"StD:\", round(std_score, 2)\n",
        "    print \"Average Time (Seconds):\", avg_time, \"StD:\", round(std_time, 2)\n",
        "    print \"Average Generations:\", avg_generations, \"StD:\", round(std_generations, 2)\n",
        "\n",
        "    return successes, avg_score, avg_time, avg_generations\n",
        "\n"
      ],
      "execution_count": 0,
      "outputs": []
    },
    {
      "cell_type": "code",
      "metadata": {
        "id": "Cu9-rXNhSrsa",
        "colab_type": "code",
        "colab": {}
      },
      "source": [
        "def getrankfunction(dataset):\n",
        "    def rankfunction(population, penalizecomplexity=False):\n",
        "        scores = [scorefunction(t, dataset, penalizecomplexity) for t in population]\n",
        "        if penalizecomplexity:\n",
        "            scores = sorted(scores, key=operator.itemgetter(0, 2))\n",
        "        else:\n",
        "            scores.sort()\n",
        "\n",
        "        return scores\n",
        "\n",
        "    return rankfunction\n",
        "\n",
        "\n",
        "  \n",
        "def evolve(pc, popsize, rankfunction, maxgen=500,\n",
        "         mutationrate=0.2, breedingrate=0.1, fitnesspref=0.7, probnew=0.1,\n",
        "         penalizecomplexity=False, detectstuck=False, mute=False):\n",
        "  # Returns a random number, tending towards lower numbers. The lower pexp\n",
        "  # is, more lower numbers you will get\n",
        "  def selectindex():\n",
        "      return int(log(random()) / log(fitnesspref))\n",
        "\n",
        "  # Create a random initial population\n",
        "  population = [makerandomtree(pc) for i in range(popsize)]\n",
        "  lastscore = None\n",
        "  stuckcounter = 0\n",
        "  for i in range(maxgen):\n",
        "      scores = rankfunction(population, penalizecomplexity)\n",
        "\n",
        "      # If we get same value too often, take action\n",
        "      adj_mutate = mutationrate\n",
        "      if detectstuck:\n",
        "          if scores[0][2] == lastscore:\n",
        "              stuckcounter += 1\n",
        "          else:\n",
        "              stuckcounter = 0\n",
        "\n",
        "          lastscore = scores[0][2]\n",
        "\n",
        "          if stuckcounter > 0:\n",
        "              adj_mutate = mutationrate + 2.0*(float(stuckcounter)/100.0)\n",
        "              if adj_mutate > 0.5: adj_mutate = 0.5\n",
        "\n",
        "      if not mute:\n",
        "        if penalizecomplexity:\n",
        "            print \"Generation:\", i+1, \"Best Score:\", scores[0][0], \"Time:\", scores[0][2]\n",
        "        else:\n",
        "            print \"Generation:\", i+1, \"Best Score:\", scores[0][0]\n",
        "          \n",
        "      if scores[0][0] == 0: break\n",
        "\n",
        "      # The two best always make it\n",
        "      newpop = [scores[0][1], scores[1][1]]\n",
        "\n",
        "      # Build the next generation\n",
        "      while len(newpop) < popsize:\n",
        "          if random() > probnew:\n",
        "              newpop.append(mutate(\n",
        "                  crossover(scores[selectindex()][1],\n",
        "                            scores[selectindex()][1],\n",
        "                            probswap=breedingrate),\n",
        "                  pc, probchange=adj_mutate))\n",
        "          else:\n",
        "              # Add a random node to mix things up\n",
        "              newpop.append(makerandomtree(pc))\n",
        "\n",
        "      population = newpop\n",
        "  \n",
        "  if not mute:\n",
        "    print \"******\"\n",
        "    print \"Best Tree Found:\"\n",
        "    scores[0][1].display()\n",
        "    \n",
        "  return (scores, i+1)\n"
      ],
      "execution_count": 0,
      "outputs": []
    },
    {
      "cell_type": "code",
      "metadata": {
        "id": "xmuCejqZS3Bd",
        "colab_type": "code",
        "outputId": "975cf54b-956b-4502-f518-1a9a62ab4249",
        "colab": {
          "base_uri": "https://localhost:8080/",
          "height": 104
        }
      },
      "source": [
        "getstats(rounds=5, maxgen=50, mutationrate=0.05, breedingrate=0.10, fitnesspref=0.95, probnew=0.10, mute=True, penalizecomplexity=True)"
      ],
      "execution_count": 32,
      "outputs": [
        {
          "output_type": "stream",
          "text": [
            "# of Successes: 2\n",
            "Average Score: 1505 StD: 1403.62\n",
            "Average Time (Seconds): 115.3971174 StD: 100.16\n",
            "Average Generations: 37 StD: 17.55\n"
          ],
          "name": "stdout"
        },
        {
          "output_type": "execute_result",
          "data": {
            "text/plain": [
              "(2, 1505, 115.3971174, 37)"
            ]
          },
          "metadata": {
            "tags": []
          },
          "execution_count": 32
        }
      ]
    },
    {
      "cell_type": "markdown",
      "metadata": {
        "id": "r7OkHqAFVFb2",
        "colab_type": "text"
      },
      "source": [
        "This change to take speed/complexity into consideration seems to improve things quite a bit. The code runs faster too, but smaller trees seem to have better fitness overall compared to other trees with seemingly equivalent scores but that run slower. "
      ]
    },
    {
      "cell_type": "markdown",
      "metadata": {
        "id": "hwhX_yi6dHj5",
        "colab_type": "text"
      },
      "source": [
        "Now for a final experiment. One problem in genetic programming is that useful code gets regularly destroyed by the crossover and mutation process. So I wondered what would happen if I 'locked' some sub-trees and let them breed into the population. This revised version of the evolve function now has a 'modularize' option that will take the best tree and copy it and 'lock' (with some probability) some of the sub-trees and then let it breed into the population. "
      ]
    },
    {
      "cell_type": "code",
      "metadata": {
        "id": "mn4FCdHAS3xX",
        "colab_type": "code",
        "colab": {}
      },
      "source": [
        "def getstats(rounds=50, maxgen=50, mutationrate=0.05, breedingrate=0.10, fitnesspref=0.95, probnew=0.10, penalizecomplexity=False, modularize=False, mute=False):\n",
        "    dataset = buildhiddenset()\n",
        "    rf = getrankfunction(dataset)\n",
        "    tries = []\n",
        "    for i in range(rounds):\n",
        "        if not mute:\n",
        "          print \"*******Round: \", i+1, \"*******\"\n",
        "        start = datetime.datetime.now()\n",
        "        scores, generations = evolve(2, 500, rf, maxgen=maxgen, mutationrate=mutationrate, breedingrate=breedingrate, fitnesspref=fitnesspref, probnew=probnew, penalizecomplexity=penalizecomplexity, modularize=modularize, mute=mute)\n",
        "        best = scores[0][1]\n",
        "        score = scorefunction(best, dataset)\n",
        "        end = datetime.datetime.now()\n",
        "        delta = end - start\n",
        "        seconds = delta.total_seconds()\n",
        "        row = (score[0], seconds, generations, best)\n",
        "        tries.append(row)\n",
        "\n",
        "    scores = [row[0] for row in tries]\n",
        "    avg_score = sum(scores) / len(scores)\n",
        "    std_score = stddev(scores)\n",
        "\n",
        "    successes = scores.count(0)\n",
        "\n",
        "    times = [row[1] for row in tries]\n",
        "    avg_time = sum(times) / len(times)\n",
        "    std_time = stddev(times)\n",
        "\n",
        "    generations = [row[2] for row in tries]\n",
        "    avg_generations = sum(generations) / len(generations)\n",
        "    std_generations = stddev(generations)\n",
        "\n",
        "    # print \"Final Population\", getids(population)\n",
        "    print \"# of Successes:\", successes\n",
        "    print \"Average Score:\", avg_score, \"StD:\", round(std_score, 2)\n",
        "    print \"Average Time (Seconds):\", avg_time, \"StD:\", round(std_time, 2)\n",
        "    print \"Average Generations:\", avg_generations, \"StD:\", round(std_generations, 2)\n",
        "\n",
        "    return successes, avg_score, avg_time, avg_generations"
      ],
      "execution_count": 0,
      "outputs": []
    },
    {
      "cell_type": "code",
      "metadata": {
        "id": "sgQ3y7qwiCVd",
        "colab_type": "code",
        "colab": {}
      },
      "source": [
        "# This is the locksubtree function that locks subtrees\n",
        "def locksubtree(t, probchange=0.05, top=True):\n",
        "    result = deepcopy(t)\n",
        "\n",
        "    if not hasattr(result, \"children\"):\n",
        "        return result\n",
        "    if result.lock:\n",
        "        return result\n",
        "    if random() < probchange and not top:\n",
        "        result.lock = True\n",
        "        return result\n",
        "    else:\n",
        "        result.children = [locksubtree(c, probchange, top=False) for c in result.children]\n",
        "        return result\n"
      ],
      "execution_count": 0,
      "outputs": []
    },
    {
      "cell_type": "code",
      "metadata": {
        "id": "X1EtdpPqdGKq",
        "colab_type": "code",
        "colab": {}
      },
      "source": [
        "def getrankfunction(dataset):\n",
        "    def rankfunction(population, penalizecomplexity=False):\n",
        "        scores = [scorefunction(t, dataset, penalizecomplexity) for t in population]\n",
        "        if penalizecomplexity:\n",
        "            scores = sorted(scores, key=operator.itemgetter(0, 2))\n",
        "        else:\n",
        "            scores.sort()\n",
        "\n",
        "        return scores\n",
        "\n",
        "    return rankfunction\n",
        "\n",
        "\n",
        "  \n",
        "def evolve(pc, popsize, rankfunction, maxgen=500,\n",
        "         mutationrate=0.2, breedingrate=0.1, fitnesspref=0.7, probnew=0.1,\n",
        "         penalizecomplexity=False, detectstuck=False, modularize=False, mute=False):\n",
        "  # Returns a random number, tending towards lower numbers. The lower pexp\n",
        "  # is, more lower numbers you will get\n",
        "  def selectindex():\n",
        "      return int(log(random()) / log(fitnesspref))\n",
        "\n",
        "  # Create a random initial population\n",
        "  population = [makerandomtree(pc) for i in range(popsize)]\n",
        "  lastscore = None\n",
        "  stuckcounter = 0\n",
        "  for i in range(maxgen):\n",
        "      scores = rankfunction(population, penalizecomplexity)\n",
        "\n",
        "      # If we get same value too often, take action\n",
        "      adj_mutate = mutationrate\n",
        "      if detectstuck:\n",
        "          if scores[0][2] == lastscore:\n",
        "              stuckcounter += 1\n",
        "          else:\n",
        "              stuckcounter = 0\n",
        "\n",
        "          lastscore = scores[0][2]\n",
        "\n",
        "          if stuckcounter > 0:\n",
        "              adj_mutate = mutationrate + 2.0*(float(stuckcounter)/100.0)\n",
        "              if adj_mutate > 0.5: adj_mutate = 0.5\n",
        "\n",
        "      if not mute:\n",
        "        if penalizecomplexity:\n",
        "            print \"Generation:\", i+1, \"Best Score:\", scores[0][0], \"Time:\", scores[0][2]\n",
        "        else:\n",
        "            print \"Generation:\", i+1, \"Best Score:\", scores[0][0]\n",
        "          \n",
        "      if scores[0][0] == 0: break\n",
        "\n",
        "      # The two best always make it\n",
        "      newpop = [scores[0][1], scores[1][1]]\n",
        "\n",
        "      if modularize:\n",
        "        # Next one is same as first one, but modularized\n",
        "        newpop.append(locksubtree(newpop[0]))\n",
        "\n",
        "      # Build the next generation\n",
        "      while len(newpop) < popsize:\n",
        "          if random() > probnew:\n",
        "              newpop.append(mutate(\n",
        "                  crossover(scores[selectindex()][1],\n",
        "                            scores[selectindex()][1],\n",
        "                            probswap=breedingrate),\n",
        "                  pc, probchange=adj_mutate))\n",
        "          else:\n",
        "              # Add a random node to mix things up\n",
        "              newpop.append(makerandomtree(pc))\n",
        "\n",
        "      population = newpop\n",
        "  \n",
        "  if not mute:\n",
        "    print \"******\"\n",
        "    print \"Best Tree Found:\"\n",
        "    scores[0][1].display()\n",
        "    \n",
        "  return (scores, i+1)\n"
      ],
      "execution_count": 0,
      "outputs": []
    },
    {
      "cell_type": "code",
      "metadata": {
        "id": "95uCAoXyiWAC",
        "colab_type": "code",
        "outputId": "97c868d2-bf25-46b0-e9c3-796d65127ec4",
        "colab": {
          "base_uri": "https://localhost:8080/",
          "height": 104
        }
      },
      "source": [
        "getstats(rounds=5, maxgen=50, mutationrate=0.05, breedingrate=0.10, fitnesspref=0.95, probnew=0.10, modularize = True, mute=True, penalizecomplexity=True)"
      ],
      "execution_count": 36,
      "outputs": [
        {
          "output_type": "stream",
          "text": [
            "# of Successes: 1\n",
            "Average Score: 1484 StD: 1287.2\n",
            "Average Time (Seconds): 257.8309846 StD: 99.62\n",
            "Average Generations: 45 StD: 9.43\n"
          ],
          "name": "stdout"
        },
        {
          "output_type": "execute_result",
          "data": {
            "text/plain": [
              "(1, 1484, 257.83098459999997, 45)"
            ]
          },
          "metadata": {
            "tags": []
          },
          "execution_count": 36
        }
      ]
    }
  ]
}