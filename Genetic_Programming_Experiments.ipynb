{
  "nbformat": 4,
  "nbformat_minor": 0,
  "metadata": {
    "colab": {
      "name": "Genetic_Programming_Experiments.ipynb",
      "version": "0.3.2",
      "provenance": [],
      "collapsed_sections": [],
      "include_colab_link": true
    },
    "kernelspec": {
      "name": "python2",
      "display_name": "Python 2"
    }
  },
  "cells": [
    {
      "cell_type": "markdown",
      "metadata": {
        "id": "view-in-github",
        "colab_type": "text"
      },
      "source": [
        "<a href=\"https://colab.research.google.com/github/brucenielson/Genetic-Programming/blob/master/Genetic_Programming_Experiments.ipynb\" target=\"_parent\"><img src=\"https://colab.research.google.com/assets/colab-badge.svg\" alt=\"Open In Colab\"/></a>"
      ]
    },
    {
      "cell_type": "markdown",
      "metadata": {
        "id": "T8y96CCfwgZg",
        "colab_type": "text"
      },
      "source": [
        "This notebook contains the code I used for my inital Genetic Programming experiments. I used Toby Segaran's Genetic Programming code from his book [Collective Intelligence](https://www.amazon.com/gp/product/0596529325/ref=as_li_tl?ie=UTF8&camp=1789&creative=9325&creativeASIN=0596529325&linkCode=as2&tag=thelightrebor-20&linkId=6d3a6fa3b0f037c6a9fcee2b9e3355c8) as the starting point. ([Code found here](https://resources.oreilly.com/examples/9780596529321/tree/master/PCI_Code%20Folder/chapter11)) This experiment was primarily about playing with the hyper parameters of the code to get best results. However, I make a few improvements along the way to improve performance via various tricks I'll explain."
      ]
    },
    {
      "cell_type": "markdown",
      "metadata": {
        "id": "_SjmR21Jyusr",
        "colab_type": "text"
      },
      "source": [
        "First we will load some stats functions that are useful for calculating standard deviations. I used the code found [here](https://stackoverflow.com/questions/15389768/standard-deviation-of-a-list). However, it says it's just the code taken staight from Python's statistic module."
      ]
    },
    {
      "cell_type": "code",
      "metadata": {
        "id": "bXbiG0fuwR56",
        "colab_type": "code",
        "colab": {}
      },
      "source": [
        "# From: https://stackoverflow.com/questions/15389768/standard-deviation-of-a-list\n",
        "\n",
        "def mean(data):\n",
        "    \"\"\"Return the sample arithmetic mean of data.\"\"\"\n",
        "    n = len(data)\n",
        "    if n < 1:\n",
        "        raise ValueError('mean requires at least one data point')\n",
        "    return sum(data)/n # in Python 2 use sum(data)/float(n)\n",
        "\n",
        "def _ss(data):\n",
        "    \"\"\"Return sum of square deviations of sequence data.\"\"\"\n",
        "    c = mean(data)\n",
        "    ss = sum((x-c)**2 for x in data)\n",
        "    return ss\n",
        "\n",
        "def stddev(data, ddof=1):\n",
        "    \"\"\"Calculates the population standard deviation\n",
        "    if ddof=0; specify ddof=1 to compute the sample\n",
        "    standard deviation. (which I made default)\"\"\"\n",
        "    n = len(data)\n",
        "    if n < 2:\n",
        "        raise ValueError('variance requires at least two data points')\n",
        "    ss = _ss(data)\n",
        "    pvar = ss/(n-ddof)\n",
        "    return pvar**0.5"
      ],
      "execution_count": 0,
      "outputs": []
    },
    {
      "cell_type": "markdown",
      "metadata": {
        "id": "ovICSJEL0JSF",
        "colab_type": "text"
      },
      "source": [
        "Now load the function wrapper code and list of functions we'll be using in our genetic programming program trees: Add, Multiply, If, >, Subtract."
      ]
    },
    {
      "cell_type": "code",
      "metadata": {
        "id": "XzDi9di_02p5",
        "colab_type": "code",
        "colab": {}
      },
      "source": [
        "class fwrapper:\n",
        "    def __init__(self, function, params, name):\n",
        "        self.function = function\n",
        "        self.params = params\n",
        "        self.name = name\n",
        "\n",
        "\n",
        "# Functions with 2 parameters\n",
        "addw = fwrapper(lambda p: p[0] + p[1], 2, 'add')\n",
        "subw = fwrapper(lambda p: p[0] - p[1], 2, 'subtract')\n",
        "mulw = fwrapper(lambda p: p[0] * p[1], 2, 'multiply')\n",
        "# If and > Function\n",
        "def iffunc(l):\n",
        "    if l[0] > 0:\n",
        "        return l[1]\n",
        "    else:\n",
        "        return l[2]\n",
        "\n",
        "ifw = fwrapper(iffunc, 3, 'if')\n",
        "\n",
        "\n",
        "def isgreater(l):\n",
        "    if l[0] > l[1]:\n",
        "        return 1\n",
        "    else:\n",
        "        return 0\n",
        "gtw = fwrapper(isgreater, 2, 'isgreater')\n",
        "\n",
        "# List of possible functions\n",
        "flist = [addw, mulw, ifw, gtw, subw]\n"
      ],
      "execution_count": 0,
      "outputs": []
    },
    {
      "cell_type": "markdown",
      "metadata": {
        "id": "Q-ac6f1x2w6Y",
        "colab_type": "text"
      },
      "source": [
        "Requried imports:"
      ]
    },
    {
      "cell_type": "code",
      "metadata": {
        "id": "rBRilfa62z6z",
        "colab_type": "code",
        "colab": {}
      },
      "source": [
        "from random import random, randint, choice\n",
        "from copy import deepcopy\n",
        "from math import log\n",
        "import datetime\n",
        "import operator"
      ],
      "execution_count": 0,
      "outputs": []
    },
    {
      "cell_type": "markdown",
      "metadata": {
        "id": "RLJWI04t24he",
        "colab_type": "text"
      },
      "source": [
        "Node classes: \"node\" is for functions, \"paramnode\" is for parameters, \"constnode\" is for constants"
      ]
    },
    {
      "cell_type": "code",
      "metadata": {
        "id": "WsIOeWZM3I_z",
        "colab_type": "code",
        "colab": {}
      },
      "source": [
        "class node:\n",
        "    treecounter = 0\n",
        "    def __init__(self, fw, children):\n",
        "        self.function = fw.function\n",
        "        self.name = fw.name\n",
        "        self.children = children\n",
        "        self.id = node.treecounter\n",
        "        self.lock = False\n",
        "        node.treecounter += 1 # Sets a unique id on each node for tracking\n",
        "\n",
        "\n",
        "    def evaluate(self, inp):\n",
        "        results = [n.evaluate(inp) for n in self.children]\n",
        "        return self.function(results)\n",
        "\n",
        "    def display(self, indent=0):\n",
        "        if self.lock:\n",
        "            add = \"*\"\n",
        "        else:\n",
        "            add = \"\"\n",
        "        print (' ' * indent) + self.name + add\n",
        "        for c in self.children:\n",
        "            c.display(indent + 1)\n",
        "\n",
        "\n",
        "class paramnode:\n",
        "    def __init__(self, idx):\n",
        "        self.idx = idx\n",
        "\n",
        "    def evaluate(self, inp):\n",
        "        return inp[self.idx]\n",
        "\n",
        "    def display(self, indent=0):\n",
        "        print '%sp%d' % (' ' * indent, self.idx)\n",
        "\n",
        "\n",
        "class constnode:\n",
        "    def __init__(self, value):\n",
        "        self.value = value\n",
        "\n",
        "    def evaluate(self, inp):\n",
        "        return self.value\n",
        "\n",
        "    def display(self, indent=0):\n",
        "        print '%s%d' % (' ' * indent, self.value)\n",
        "\n"
      ],
      "execution_count": 0,
      "outputs": []
    },
    {
      "cell_type": "markdown",
      "metadata": {
        "id": "xa4k-qmI3UB9",
        "colab_type": "text"
      },
      "source": [
        "Now we'll create an example programming tree manually to try this out. This tree is equivalent to:\n",
        "\n",
        "```\n",
        "def func(x,y):\n",
        "  if x>3:\n",
        "    return y + 5\n",
        "  else:\n",
        "    return y - 2\n",
        "```\n",
        "\n"
      ]
    },
    {
      "cell_type": "code",
      "metadata": {
        "id": "4vAQ3MvX3gqz",
        "colab_type": "code",
        "colab": {}
      },
      "source": [
        "class exampletree(node):\n",
        "    def __init__(self):\n",
        "        children = [node(gtw, [paramnode(0), constnode(3)]),\n",
        "                    node(addw, [paramnode(1), constnode(5)]),\n",
        "                    node(subw, [paramnode(1), constnode(2)])]\n",
        "\n",
        "        node.__init__(self, ifw, children)\n",
        "\n",
        "\n"
      ],
      "execution_count": 0,
      "outputs": []
    },
    {
      "cell_type": "code",
      "metadata": {
        "id": "NWF6uHQ53rKb",
        "colab_type": "code",
        "colab": {}
      },
      "source": [
        "exampletree = exampletree()"
      ],
      "execution_count": 0,
      "outputs": []
    },
    {
      "cell_type": "code",
      "metadata": {
        "id": "812iJMaR36d1",
        "colab_type": "code",
        "outputId": "47487266-06fc-439e-910f-14bf3e6045aa",
        "colab": {
          "base_uri": "https://localhost:8080/",
          "height": 34
        }
      },
      "source": [
        "exampletree.evaluate([2,3])"
      ],
      "execution_count": 7,
      "outputs": [
        {
          "output_type": "execute_result",
          "data": {
            "text/plain": [
              "1"
            ]
          },
          "metadata": {
            "tags": []
          },
          "execution_count": 7
        }
      ]
    },
    {
      "cell_type": "code",
      "metadata": {
        "id": "OJ_kywY03-3U",
        "colab_type": "code",
        "outputId": "5dca1e60-3e67-4bcc-d80c-d13bf946dc80",
        "colab": {
          "base_uri": "https://localhost:8080/",
          "height": 34
        }
      },
      "source": [
        "exampletree.evaluate([5,3])"
      ],
      "execution_count": 8,
      "outputs": [
        {
          "output_type": "execute_result",
          "data": {
            "text/plain": [
              "8"
            ]
          },
          "metadata": {
            "tags": []
          },
          "execution_count": 8
        }
      ]
    },
    {
      "cell_type": "markdown",
      "metadata": {
        "id": "1nPV5u8X4vfc",
        "colab_type": "text"
      },
      "source": [
        "We can also display the tree in a (somewhat) more readable format by calling the \"display\" method"
      ]
    },
    {
      "cell_type": "code",
      "metadata": {
        "id": "M81w_N7G48Nx",
        "colab_type": "code",
        "outputId": "d35498a8-cc25-485e-9488-698427ff4211",
        "colab": {
          "base_uri": "https://localhost:8080/",
          "height": 187
        }
      },
      "source": [
        "exampletree.display()"
      ],
      "execution_count": 9,
      "outputs": [
        {
          "output_type": "stream",
          "text": [
            "if\n",
            " isgreater\n",
            "  p0\n",
            "  3\n",
            " add\n",
            "  p1\n",
            "  5\n",
            " subtract\n",
            "  p1\n",
            "  2\n"
          ],
          "name": "stdout"
        }
      ]
    },
    {
      "cell_type": "markdown",
      "metadata": {
        "id": "AXSzS-or5EsB",
        "colab_type": "text"
      },
      "source": [
        "Now let's create a way to make random code trees."
      ]
    },
    {
      "cell_type": "code",
      "metadata": {
        "id": "7BFFC8SX5IOI",
        "colab_type": "code",
        "colab": {}
      },
      "source": [
        "def makerandomtree(pc, maxdepth=4, fpr=0.5, ppr=0.6): # pc is number of parameters\n",
        "    if random() < fpr and maxdepth > 0:\n",
        "        f = choice(flist)\n",
        "        children = [makerandomtree(pc, maxdepth - 1, fpr, ppr)\n",
        "                    for i in range(f.params)]\n",
        "        return node(f, children)\n",
        "    elif random() < ppr:\n",
        "        return paramnode(randint(0, pc - 1))\n",
        "    else:\n",
        "        return constnode(randint(0, 10))\n"
      ],
      "execution_count": 0,
      "outputs": []
    },
    {
      "cell_type": "code",
      "metadata": {
        "id": "pKd3tfGh5Wkn",
        "colab_type": "code",
        "outputId": "6892da4c-8db3-44dd-80f8-acfa091a4860",
        "colab": {
          "base_uri": "https://localhost:8080/",
          "height": 34
        }
      },
      "source": [
        "random1 = makerandomtree(2)\n",
        "random1.display()"
      ],
      "execution_count": 11,
      "outputs": [
        {
          "output_type": "stream",
          "text": [
            "p1\n"
          ],
          "name": "stdout"
        }
      ]
    },
    {
      "cell_type": "code",
      "metadata": {
        "id": "bhhEb60S5jzx",
        "colab_type": "code",
        "outputId": "0637ac78-4eb0-4bf4-d1c8-f7459bf655b9",
        "colab": {
          "base_uri": "https://localhost:8080/",
          "height": 34
        }
      },
      "source": [
        "random1.evaluate([5,2])"
      ],
      "execution_count": 12,
      "outputs": [
        {
          "output_type": "execute_result",
          "data": {
            "text/plain": [
              "2"
            ]
          },
          "metadata": {
            "tags": []
          },
          "execution_count": 12
        }
      ]
    },
    {
      "cell_type": "markdown",
      "metadata": {
        "id": "QL5uE_iH5wzV",
        "colab_type": "text"
      },
      "source": [
        "Now for the real experiments! We need a 'hidden function' that our genetic programming tries to figure out what it is. This function is equivalent to X^2 + 2Y + 3X + 5"
      ]
    },
    {
      "cell_type": "code",
      "metadata": {
        "id": "l277ghPV6CkH",
        "colab_type": "code",
        "colab": {}
      },
      "source": [
        "def hiddenfunction(x, y):\n",
        "    return x ** 2 + 2 * y + 3 * x + 5\n"
      ],
      "execution_count": 0,
      "outputs": []
    },
    {
      "cell_type": "markdown",
      "metadata": {
        "id": "Pxzwfisc6Sge",
        "colab_type": "text"
      },
      "source": [
        "Now create a random set of parameters and get the results. This will be the 'observations' that the genetic program will run against to determine how close it's program is to the correct one."
      ]
    },
    {
      "cell_type": "code",
      "metadata": {
        "id": "6KMSXEvW6eaL",
        "colab_type": "code",
        "colab": {}
      },
      "source": [
        "def buildhiddenset():\n",
        "    rows = []\n",
        "    for i in range(200):\n",
        "        x = randint(0, 40)\n",
        "        y = randint(0, 40)\n",
        "        rows.append([x, y, hiddenfunction(x, y)])\n",
        "    return rows\n",
        "\n"
      ],
      "execution_count": 0,
      "outputs": []
    },
    {
      "cell_type": "code",
      "metadata": {
        "id": "uBxFtljm6gm0",
        "colab_type": "code",
        "colab": {}
      },
      "source": [
        "hiddenset = buildhiddenset()"
      ],
      "execution_count": 0,
      "outputs": []
    },
    {
      "cell_type": "code",
      "metadata": {
        "id": "p2Sxl5u66m_e",
        "colab_type": "code",
        "outputId": "1c438d6f-8731-47aa-9714-e3ec7adbbdc3",
        "colab": {
          "base_uri": "https://localhost:8080/",
          "height": 54
        }
      },
      "source": [
        "print hiddenset"
      ],
      "execution_count": 16,
      "outputs": [
        {
          "output_type": "stream",
          "text": [
            "[[2, 1, 17], [12, 8, 201], [16, 2, 313], [22, 19, 593], [10, 19, 173], [3, 36, 95], [24, 12, 677], [12, 13, 211], [19, 13, 449], [22, 32, 619], [33, 19, 1231], [12, 38, 261], [19, 26, 475], [3, 5, 33], [24, 22, 697], [22, 33, 621], [40, 24, 1773], [10, 15, 165], [13, 4, 221], [19, 12, 447], [16, 17, 343], [38, 33, 1629], [14, 17, 277], [4, 16, 65], [36, 22, 1453], [12, 29, 243], [12, 3, 191], [18, 19, 421], [25, 31, 767], [15, 29, 333], [15, 14, 303], [9, 37, 187], [38, 38, 1639], [31, 33, 1125], [20, 3, 471], [13, 15, 243], [18, 1, 385], [21, 31, 571], [15, 0, 275], [36, 24, 1457], [21, 31, 571], [23, 6, 615], [7, 33, 141], [19, 17, 457], [21, 12, 533], [23, 20, 643], [31, 21, 1101], [14, 10, 263], [25, 32, 769], [2, 16, 47], [8, 34, 161], [16, 35, 379], [40, 13, 1751], [32, 26, 1177], [20, 1, 467], [30, 7, 1009], [1, 6, 21], [29, 10, 953], [22, 2, 559], [19, 12, 447], [25, 10, 725], [11, 37, 233], [36, 37, 1483], [17, 7, 359], [2, 32, 79], [21, 19, 547], [13, 3, 219], [32, 19, 1163], [14, 10, 263], [23, 16, 635], [0, 36, 77], [27, 37, 889], [16, 31, 371], [31, 29, 1117], [12, 8, 201], [2, 40, 95], [12, 16, 217], [11, 12, 183], [31, 12, 1083], [24, 40, 733], [33, 16, 1225], [26, 37, 833], [0, 33, 71], [2, 23, 61], [24, 15, 683], [8, 26, 145], [38, 18, 1599], [36, 15, 1439], [30, 13, 1021], [30, 40, 1075], [25, 27, 759], [22, 8, 571], [10, 0, 135], [15, 6, 287], [19, 7, 437], [14, 29, 301], [20, 36, 537], [20, 30, 525], [9, 39, 191], [8, 24, 141], [15, 20, 315], [21, 25, 559], [31, 3, 1065], [20, 14, 493], [25, 35, 775], [30, 19, 1033], [18, 3, 389], [3, 37, 97], [1, 20, 49], [23, 18, 639], [39, 4, 1651], [10, 13, 161], [40, 1, 1727], [7, 34, 143], [38, 21, 1605], [17, 2, 349], [22, 16, 587], [19, 31, 485], [26, 28, 815], [6, 30, 119], [17, 34, 413], [3, 29, 81], [18, 15, 413], [13, 28, 269], [9, 37, 187], [32, 35, 1195], [29, 16, 965], [7, 20, 115], [27, 9, 833], [30, 33, 1061], [30, 24, 1043], [25, 38, 781], [38, 30, 1623], [39, 12, 1667], [19, 19, 461], [33, 2, 1197], [6, 19, 97], [6, 10, 79], [3, 5, 33], [32, 1, 1127], [10, 6, 147], [29, 12, 957], [40, 10, 1745], [22, 23, 601], [26, 37, 833], [26, 16, 791], [24, 5, 663], [26, 21, 801], [36, 7, 1423], [4, 26, 85], [5, 26, 97], [35, 25, 1385], [34, 14, 1291], [37, 6, 1497], [8, 25, 143], [35, 22, 1379], [26, 38, 835], [15, 9, 293], [40, 38, 1801], [26, 23, 805], [29, 11, 955], [8, 22, 137], [30, 30, 1055], [16, 23, 355], [30, 26, 1047], [0, 33, 71], [16, 19, 347], [5, 10, 65], [39, 28, 1699], [13, 0, 213], [8, 22, 137], [37, 37, 1559], [31, 18, 1095], [7, 13, 101], [12, 28, 241], [15, 39, 353], [5, 17, 79], [5, 35, 115], [31, 33, 1125], [8, 1, 95], [36, 11, 1431], [32, 27, 1179], [15, 8, 291], [23, 21, 645], [9, 17, 147], [40, 7, 1739], [6, 12, 83], [2, 37, 89], [0, 37, 79], [2, 39, 93], [23, 14, 631], [13, 13, 239], [23, 8, 619], [39, 0, 1643], [36, 35, 1479], [38, 24, 1611], [30, 40, 1075], [28, 37, 947], [33, 38, 1269], [10, 2, 139]]\n"
          ],
          "name": "stdout"
        }
      ]
    },
    {
      "cell_type": "markdown",
      "metadata": {
        "id": "cjsBr8wP6tBr",
        "colab_type": "text"
      },
      "source": [
        "Let's create a 'score' function that evaluates a genetic programming tree and determines how far off it's function is from the correct result."
      ]
    },
    {
      "cell_type": "code",
      "metadata": {
        "id": "yee3xqqs61J7",
        "colab_type": "code",
        "colab": {}
      },
      "source": [
        "def scorefunction(tree, dataset, penalizecomplexity=False):\n",
        "    start = datetime.datetime.now()\n",
        "    dif = 0\n",
        "    for row in dataset:\n",
        "        val = tree.evaluate([row[0], row[1]])\n",
        "        dif += abs(val - row[2])\n",
        "\n",
        "    if penalizecomplexity == False: # We'll use this code later to penalize more complext trees\n",
        "        return (dif, tree)\n",
        "    else:\n",
        "        end = datetime.datetime.now()\n",
        "        delta = end - start\n",
        "        seconds = delta.total_seconds()\n",
        "        return (dif, tree, seconds)\n"
      ],
      "execution_count": 0,
      "outputs": []
    },
    {
      "cell_type": "code",
      "metadata": {
        "id": "PXDqrHUz660a",
        "colab_type": "code",
        "outputId": "84958ba1-c197-457d-bfce-c9536fe1d1d5",
        "colab": {
          "base_uri": "https://localhost:8080/",
          "height": 34
        }
      },
      "source": [
        "scorefunction(random1, hiddenset)[0]"
      ],
      "execution_count": 18,
      "outputs": [
        {
          "output_type": "execute_result",
          "data": {
            "text/plain": [
              "122909"
            ]
          },
          "metadata": {
            "tags": []
          },
          "execution_count": 18
        }
      ]
    },
    {
      "cell_type": "markdown",
      "metadata": {
        "id": "BPX5atTY7xxb",
        "colab_type": "text"
      },
      "source": [
        "Now we'll create the mutate and crossover functions. Mutate takes a tree and has a chance of changing one node into a new random program. Crossover takes two trees and has a chance of grabbing a node of one tree and splicing it into the other. "
      ]
    },
    {
      "cell_type": "code",
      "metadata": {
        "id": "TBSjZApz8Bc_",
        "colab_type": "code",
        "colab": {}
      },
      "source": [
        "def mutate(t, pc, probchange=0.1):\n",
        "    if random() < probchange:\n",
        "        return makerandomtree(pc)\n",
        "    else:\n",
        "        result = deepcopy(t)\n",
        "        if hasattr(t, \"children\"):\n",
        "            result.children = [mutate(c, pc, probchange) for c in t.children]\n",
        "\n",
        "        return result\n",
        "\n",
        "\n",
        "def crossover(t1, t2, probswap=0.1, top=True):\n",
        "    # print \"t1:\", getattr(t1, \"id\", -1), \"t2:\", getattr(t2, \"id\", -1)\n",
        "    if random() < probswap and not top:\n",
        "        # print \"return t2:\", getattr(t2, \"id\", -1)\n",
        "        return deepcopy(t2)\n",
        "    else:\n",
        "        result = deepcopy(t1)\n",
        "        if hasattr(t1, 'children') and hasattr(t2, 'children') and not getattr(result, \"lock\", False):\n",
        "            result.children = [crossover(c, choice(t2.children), probswap, top=False)\n",
        "                               for c in t1.children]\n",
        "        # print \"return crossover:\", getattr(result, \"id\", -1)\n",
        "        return result\n"
      ],
      "execution_count": 0,
      "outputs": []
    },
    {
      "cell_type": "code",
      "metadata": {
        "id": "-NNAUvfP8IXf",
        "colab_type": "code",
        "outputId": "879d3fd0-8988-4945-ead6-5318b6a46b53",
        "colab": {
          "base_uri": "https://localhost:8080/",
          "height": 136
        }
      },
      "source": [
        "random2 = makerandomtree(2)\n",
        "random2.display()"
      ],
      "execution_count": 20,
      "outputs": [
        {
          "output_type": "stream",
          "text": [
            "multiply\n",
            " add\n",
            "  p1\n",
            "  multiply\n",
            "   2\n",
            "   p1\n",
            " p1\n"
          ],
          "name": "stdout"
        }
      ]
    },
    {
      "cell_type": "code",
      "metadata": {
        "id": "Mw1fYI1a8Zlv",
        "colab_type": "code",
        "outputId": "32219719-b250-456d-a50e-f05020454289",
        "colab": {
          "base_uri": "https://localhost:8080/",
          "height": 136
        }
      },
      "source": [
        "mutatedtree = mutate(random2, 2)\n",
        "mutatedtree.display()"
      ],
      "execution_count": 21,
      "outputs": [
        {
          "output_type": "stream",
          "text": [
            "multiply\n",
            " add\n",
            "  p1\n",
            "  multiply\n",
            "   2\n",
            "   p1\n",
            " p1\n"
          ],
          "name": "stdout"
        }
      ]
    },
    {
      "cell_type": "code",
      "metadata": {
        "id": "TV11jT0G8t3-",
        "colab_type": "code",
        "outputId": "58b5cc8e-58a0-4401-e35d-708d7094e2cb",
        "colab": {
          "base_uri": "https://localhost:8080/",
          "height": 34
        }
      },
      "source": [
        "crossovertree = crossover(random1, random2)\n",
        "crossovertree.display()"
      ],
      "execution_count": 22,
      "outputs": [
        {
          "output_type": "stream",
          "text": [
            "p1\n"
          ],
          "name": "stdout"
        }
      ]
    },
    {
      "cell_type": "markdown",
      "metadata": {
        "id": "R2gXghHq9HIB",
        "colab_type": "text"
      },
      "source": [
        "Finally, we're going to create an evolve function that creates a set of randomtrees, then evaluates them against the hidden function. It sorts them into order of which are best, then starts to 'evolve' them via mutation and crossover.\n",
        "\n",
        "def evolve(pc, popsize, rankfunction, maxgen=500,\n",
        "         mutationrate=0.1, breedingrate=0.3, fitnesspref=0.7, probnew=0.05,\n",
        "         penalizecomplexity=False, doublemutate=True)"
      ]
    },
    {
      "cell_type": "code",
      "metadata": {
        "id": "8r0qsTFz9XiB",
        "colab_type": "code",
        "colab": {}
      },
      "source": [
        "def evolve(pc, popsize, rankfunction, maxgen=500,\n",
        "         mutationrate=0.2, breedingrate=0.1, fitnesspref=0.7, probnew=0.1,\n",
        "         detectstuck=False, mute=False):\n",
        "  # Returns a random number, tending towards lower numbers. The lower pexp\n",
        "  # is, more lower numbers you will get\n",
        "  def selectindex():\n",
        "      return int(log(random()) / log(fitnesspref))\n",
        "\n",
        "  # Create a random initial population\n",
        "  population = [makerandomtree(pc) for i in range(popsize)]\n",
        "  lastscore = None\n",
        "  stuckcounter = 0\n",
        "  for i in range(maxgen):\n",
        "      scores = rankfunction(population)\n",
        "\n",
        "      # If we get same value too often, take action\n",
        "      adj_mutate = mutationrate\n",
        "\n",
        "      if not mute:\n",
        "        print \"Generation:\", i+1, \"Best Score:\", scores[0][0]\n",
        "          \n",
        "      if scores[0][0] == 0: break\n",
        "\n",
        "      # The two best always make it\n",
        "      newpop = [scores[0][1], scores[1][1]]\n",
        "\n",
        "      # Build the next generation\n",
        "      while len(newpop) < popsize:\n",
        "          if random() > probnew:\n",
        "              newpop.append(mutate(\n",
        "                  crossover(scores[selectindex()][1],\n",
        "                            scores[selectindex()][1],\n",
        "                            probswap=breedingrate),\n",
        "                  pc, probchange=adj_mutate))\n",
        "          else:\n",
        "              # Add a random node to mix things up\n",
        "              newpop.append(makerandomtree(pc))\n",
        "\n",
        "      population = newpop\n",
        "  \n",
        "  if not mute:\n",
        "    print \"******\"\n",
        "    print \"Best Tree Found:\"\n",
        "    scores[0][1].display()\n",
        "    \n",
        "  return (scores, i+1)\n"
      ],
      "execution_count": 0,
      "outputs": []
    },
    {
      "cell_type": "markdown",
      "metadata": {
        "id": "Vb0tHTRd93AH",
        "colab_type": "text"
      },
      "source": [
        "We also need a rankfunction that scores and sorts the population of programs."
      ]
    },
    {
      "cell_type": "code",
      "metadata": {
        "id": "6p9ufirD-C95",
        "colab_type": "code",
        "colab": {}
      },
      "source": [
        "def getrankfunction(dataset):\n",
        "    def rankfunction(population):\n",
        "        scores = [scorefunction(t, dataset) for t in population]\n",
        "        scores.sort()\n",
        "\n",
        "        return scores\n",
        "\n",
        "    return rankfunction\n",
        "\n"
      ],
      "execution_count": 0,
      "outputs": []
    },
    {
      "cell_type": "markdown",
      "metadata": {
        "id": "UK99jcwI-bcO",
        "colab_type": "text"
      },
      "source": [
        "Ready to run and see if our genetic programming population can find the real hidden function. My experience is that it finds it a bit less than half the time with the default parameters."
      ]
    },
    {
      "cell_type": "code",
      "metadata": {
        "id": "zlAD8LUq-nmE",
        "colab_type": "code",
        "colab": {}
      },
      "source": [
        "rf = getrankfunction(hiddenset)"
      ],
      "execution_count": 0,
      "outputs": []
    },
    {
      "cell_type": "code",
      "metadata": {
        "id": "topXRv4R_bT3",
        "colab_type": "code",
        "outputId": "5d9de1b4-e293-4bb3-d4b3-9aad3995bfca",
        "colab": {
          "base_uri": "https://localhost:8080/",
          "height": 1003
        }
      },
      "source": [
        "results = evolve(2, 500, rf, maxgen=50, mutationrate=0.2, breedingrate=0.1, fitnesspref=0.7, probnew=0.1)"
      ],
      "execution_count": 26,
      "outputs": [
        {
          "output_type": "stream",
          "text": [
            "Generation: 1 Best Score: 17080\n",
            "Generation: 2 Best Score: 5053\n",
            "Generation: 3 Best Score: 5053\n",
            "Generation: 4 Best Score: 4856\n",
            "Generation: 5 Best Score: 2724\n",
            "Generation: 6 Best Score: 159\n",
            "Generation: 7 Best Score: 0\n",
            "******\n",
            "Best Tree Found:\n",
            "if\n",
            " 6\n",
            " add\n",
            "  add\n",
            "   p1\n",
            "   add\n",
            "    5\n",
            "    p1\n",
            "  multiply\n",
            "   add\n",
            "    p0\n",
            "    3\n",
            "   if\n",
            "    1\n",
            "    p0\n",
            "    subtract\n",
            "     3\n",
            "     p0\n",
            " if\n",
            "  1\n",
            "  p1\n",
            "  isgreater\n",
            "   p1\n",
            "   isgreater\n",
            "    if\n",
            "     subtract\n",
            "      if\n",
            "       p0\n",
            "       p0\n",
            "       p1\n",
            "      8\n",
            "     2\n",
            "     subtract\n",
            "      if\n",
            "       isgreater\n",
            "        p0\n",
            "        1\n",
            "       p1\n",
            "       add\n",
            "        4\n",
            "        isgreater\n",
            "         0\n",
            "         p0\n",
            "      isgreater\n",
            "       6\n",
            "       5\n",
            "    subtract\n",
            "     p0\n",
            "     10\n"
          ],
          "name": "stdout"
        }
      ]
    },
    {
      "cell_type": "markdown",
      "metadata": {
        "id": "xiLywoNPITMn",
        "colab_type": "text"
      },
      "source": [
        "At last, we're ready to start experimenting with hyper parameters to find the best ones! \n",
        "\n",
        "So the first thing we're going to try is playing with mutationrate, breedingrate, fitnesspref (preference for how bias we should grab the most fit trees to breed), and probnew (probability of creating a new random tree).\n",
        "\n",
        "To do this experiment, we need a test function that will run evolve multiple times and give us averages and standard deviations across mulitple runs. \n",
        "\n",
        "But there is so much deviation from one run to the next we really should run 1000 different times and then take the average result. But we can't wait that long, so we'll do 5 instead. \n",
        "\n",
        "Consider changing that to 50 and you'll get a fairly good feel for averages using different hyper parameters within an hour or two."
      ]
    },
    {
      "cell_type": "code",
      "metadata": {
        "id": "q8AQVqDGJRh8",
        "colab_type": "code",
        "colab": {}
      },
      "source": [
        "def getstats(rounds=50, maxgen=50, mutationrate=0.05, breedingrate=0.10, fitnesspref=0.95, probnew=0.10, penalizecomplexity=False, detectstuck=False, mute=False):\n",
        "    dataset = buildhiddenset()\n",
        "    rf = getrankfunction(dataset)\n",
        "    tries = []\n",
        "    for i in range(rounds):\n",
        "        if not mute:\n",
        "          print \"*******Round: \", i+1, \"*******\"\n",
        "        start = datetime.datetime.now()\n",
        "        scores, generations = evolve(2, 500, rf, maxgen=maxgen, mutationrate=mutationrate, breedingrate=breedingrate, fitnesspref=fitnesspref, probnew=probnew, mute=mute)\n",
        "        best = scores[0][1]\n",
        "        score = scorefunction(best, dataset)\n",
        "        end = datetime.datetime.now()\n",
        "        delta = end - start\n",
        "        seconds = delta.total_seconds()\n",
        "        row = (score[0], seconds, generations, best)\n",
        "        tries.append(row)\n",
        "\n",
        "    scores = [row[0] for row in tries]\n",
        "    avg_score = sum(scores) / len(scores)\n",
        "    std_score = stddev(scores)\n",
        "\n",
        "    successes = scores.count(0)\n",
        "\n",
        "    times = [row[1] for row in tries]\n",
        "    avg_time = sum(times) / len(times)\n",
        "    std_time = stddev(times)\n",
        "\n",
        "    generations = [row[2] for row in tries]\n",
        "    avg_generations = sum(generations) / len(generations)\n",
        "    std_generations = stddev(generations)\n",
        "\n",
        "    # print \"Final Population\", getids(population)\n",
        "    print \"# of Successes:\", successes\n",
        "    print \"Average Score:\", avg_score, \"StD:\", round(std_score, 2)\n",
        "    print \"Average Time (Seconds):\", avg_time, \"StD:\", round(std_time, 2)\n",
        "    print \"Average Generations:\", avg_generations, \"StD:\", round(std_generations, 2)\n",
        "\n",
        "    return successes, avg_score, avg_time, avg_generations\n",
        "\n"
      ],
      "execution_count": 0,
      "outputs": []
    },
    {
      "cell_type": "code",
      "metadata": {
        "id": "kHc-x5vZJq49",
        "colab_type": "code",
        "colab": {
          "base_uri": "https://localhost:8080/",
          "height": 102
        },
        "outputId": "fcd9442c-7bc7-40be-a618-96dcf1ab40db"
      },
      "source": [
        "getstats(rounds=5, maxgen=50, mutationrate=0.2, breedingrate=0.1, fitnesspref=0.7, probnew=0.1, mute=True)"
      ],
      "execution_count": 28,
      "outputs": [
        {
          "output_type": "stream",
          "text": [
            "# of Successes: 0\n",
            "Average Score: 2394 StD: 1011.66\n",
            "Average Time (Seconds): 131.4342258 StD: 39.04\n",
            "Average Generations: 50 StD: 0.0\n"
          ],
          "name": "stdout"
        },
        {
          "output_type": "execute_result",
          "data": {
            "text/plain": [
              "(0, 2394, 131.4342258, 50)"
            ]
          },
          "metadata": {
            "tags": []
          },
          "execution_count": 28
        }
      ]
    },
    {
      "cell_type": "markdown",
      "metadata": {
        "id": "ndgUcZ5APCef",
        "colab_type": "text"
      },
      "source": [
        "So the above is the default settings. Can we do better? Playing around with the hyper parameters, the follows was the best I could find. I think there is something to be learned from these:\n",
        "\n",
        "*   **Mutation Rate**: A very low mutation rate of 0.05 worked the best. The obvious advantage here is that it more slowly makes changes and doesn't produce garbage too fast. The downside is that we're giving up an opportunity for more variation to select from generation to generation. I think there is an added bonus of a low mutation rate: a quirk in the code shows that a higher mutation rate will tend to force the mutations to the top because it starts at the top and only keeps moving down if no mutation takes place in the parents. This suggests that a lower mutation rate allows more mutations lower into the tree. \n",
        "*   **Breeding Rate**: A slightly higher breeding rate of 0.10 seemed to work the best. This suggests that crossover is probably the main type of variation (compared to mutations)\n",
        "*   **Fitness Preference**: Fitness Preference determines the liklihood of selecting less fit trees to crossbreed with. The value should be less than 1.0. I experimented and found that the best value here is 0.95, which is fairly high. This makes good sense given the low breeding rate because it injects more variation into the population, even though it is less fit variation. This shows the importance of variation.\n",
        "*   **Probability New**: The probability of, instead of crossbreeding and mutating from existing trees in the population that we just build a new one from scratch. This is necessary to keep injecting new 'genetic material' into the population. This is another source of variation.\n",
        "\n",
        "\n",
        "\n"
      ]
    },
    {
      "cell_type": "code",
      "metadata": {
        "id": "tQaFwmVsPUap",
        "colab_type": "code",
        "colab": {
          "base_uri": "https://localhost:8080/",
          "height": 102
        },
        "outputId": "7492cfe3-b247-4b21-c5ea-c71c70ec65be"
      },
      "source": [
        "getstats(rounds=5, maxgen=50, mutationrate=0.05, breedingrate=0.10, fitnesspref=0.95, probnew=0.10, mute=True)"
      ],
      "execution_count": 29,
      "outputs": [
        {
          "output_type": "stream",
          "text": [
            "# of Successes: 3\n",
            "Average Score: 534 StD: 1087.05\n",
            "Average Time (Seconds): 95.8292198 StD: 107.6\n",
            "Average Generations: 28 StD: 19.72\n"
          ],
          "name": "stdout"
        },
        {
          "output_type": "execute_result",
          "data": {
            "text/plain": [
              "(3, 534, 95.8292198, 28)"
            ]
          },
          "metadata": {
            "tags": []
          },
          "execution_count": 29
        }
      ]
    },
    {
      "cell_type": "markdown",
      "metadata": {
        "id": "V1YxtVG4R-LP",
        "colab_type": "text"
      },
      "source": [
        "Having found the best hyper parameters, I wanted to see if I could improve things by giving a penalty for more complex trees and thereby emphasize trees that gave good results, but were less complex. \n",
        "\n",
        "It's not immediately obvious how to do this. The way the code is currently written, I'd have to traverse the whole tree to calculate it's complexity. So I cheated and just kept track of how long the tree takes to run. This isn't perfect, but it should give me a rough order of trees that score the same but some run faster than others (presumably due to reduced complexity from less 'junk code')\n",
        "\n",
        "So I rewrote the evolve function and score function to track how long it takes to evaluate a tree and to order first by score and then by the length of time it took to run the tree. "
      ]
    },
    {
      "cell_type": "code",
      "metadata": {
        "id": "Cu9-rXNhSrsa",
        "colab_type": "code",
        "colab": {}
      },
      "source": [
        "def getrankfunction(dataset):\n",
        "    def rankfunction(population, penalizecomplexity=False):\n",
        "        scores = [scorefunction(t, dataset, penalizecomplexity) for t in population]\n",
        "        if penalizecomplexity:\n",
        "            scores = sorted(scores, key=operator.itemgetter(0, 2))\n",
        "        else:\n",
        "            scores.sort()\n",
        "\n",
        "        return scores\n",
        "\n",
        "    return rankfunction\n",
        "\n",
        "\n",
        "  \n",
        "def evolve(pc, popsize, rankfunction, maxgen=500,\n",
        "         mutationrate=0.2, breedingrate=0.1, fitnesspref=0.7, probnew=0.1,\n",
        "         penalizecomplexity=False, detectstuck=False, modularize=False, mute=False):\n",
        "  # Returns a random number, tending towards lower numbers. The lower pexp\n",
        "  # is, more lower numbers you will get\n",
        "  def selectindex():\n",
        "      return int(log(random()) / log(fitnesspref))\n",
        "\n",
        "  # Create a random initial population\n",
        "  population = [makerandomtree(pc) for i in range(popsize)]\n",
        "  lastscore = None\n",
        "  stuckcounter = 0\n",
        "  for i in range(maxgen):\n",
        "      scores = rankfunction(population, penalizecomplexity)\n",
        "\n",
        "      # If we get same value too often, take action\n",
        "      adj_mutate = mutationrate\n",
        "      if detectstuck:\n",
        "          if scores[0][2] == lastscore:\n",
        "              stuckcounter += 1\n",
        "          else:\n",
        "              stuckcounter = 0\n",
        "\n",
        "          lastscore = scores[0][2]\n",
        "\n",
        "          if stuckcounter > 0:\n",
        "              adj_mutate = mutationrate + 2.0*(float(stuckcounter)/100.0)\n",
        "              if adj_mutate > 0.5: adj_mutate = 0.5\n",
        "\n",
        "      if not mute:\n",
        "        if penalizecomplexity:\n",
        "            print \"Generation:\", i+1, \"Best Score:\", scores[0][0], \"Time:\", scores[0][2]\n",
        "        else:\n",
        "            print \"Generation:\", i+1, \"Best Score:\", scores[0][0]\n",
        "          \n",
        "      if scores[0][0] == 0: break\n",
        "\n",
        "      # The two best always make it\n",
        "      newpop = [scores[0][1], scores[1][1]]\n",
        "\n",
        "      if modularize:\n",
        "        # Next one is same as first one, but modularized\n",
        "        newpop.append(modularize(newpop[0]))\n",
        "\n",
        "      # Build the next generation\n",
        "      while len(newpop) < popsize:\n",
        "          if random() > probnew:\n",
        "              newpop.append(mutate(\n",
        "                  crossover(scores[selectindex()][1],\n",
        "                            scores[selectindex()][1],\n",
        "                            probswap=breedingrate),\n",
        "                  pc, probchange=adj_mutate))\n",
        "          else:\n",
        "              # Add a random node to mix things up\n",
        "              newpop.append(makerandomtree(pc))\n",
        "\n",
        "      population = newpop\n",
        "  \n",
        "  if not mute:\n",
        "    print \"******\"\n",
        "    print \"Best Tree Found:\"\n",
        "    scores[0][1].display()\n",
        "    \n",
        "  return (scores, i+1)\n"
      ],
      "execution_count": 0,
      "outputs": []
    },
    {
      "cell_type": "code",
      "metadata": {
        "id": "xmuCejqZS3Bd",
        "colab_type": "code",
        "colab": {
          "base_uri": "https://localhost:8080/",
          "height": 102
        },
        "outputId": "f4a64ce1-bc61-4751-f004-7d0aed1e53f0"
      },
      "source": [
        "getstats(rounds=5, maxgen=50, mutationrate=0.05, breedingrate=0.10, fitnesspref=0.95, probnew=0.10, mute=True, penalizecomplexity=True)"
      ],
      "execution_count": 31,
      "outputs": [
        {
          "output_type": "stream",
          "text": [
            "# of Successes: 4\n",
            "Average Score: 576 StD: 1287.98\n",
            "Average Time (Seconds): 115.6884686 StD: 208.08\n",
            "Average Generations: 21 StD: 16.52\n"
          ],
          "name": "stdout"
        },
        {
          "output_type": "execute_result",
          "data": {
            "text/plain": [
              "(4, 576, 115.6884686, 21)"
            ]
          },
          "metadata": {
            "tags": []
          },
          "execution_count": 31
        }
      ]
    },
    {
      "cell_type": "markdown",
      "metadata": {
        "id": "r7OkHqAFVFb2",
        "colab_type": "text"
      },
      "source": [
        "This change to take speed/complexity into consideration seems to improve things quite a bit. The code runs faster too, but smaller trees seem to have better fitness overall compared to other trees with seemingly equivalent scores but that run slower. "
      ]
    }
  ]
}